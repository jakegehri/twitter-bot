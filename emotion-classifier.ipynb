{
 "cells": [
  {
   "cell_type": "code",
   "execution_count": 112,
   "id": "d55c93ac-e030-4e7d-a367-2ebbd9823e49",
   "metadata": {
    "execution": {
     "iopub.execute_input": "2022-10-03T23:24:28.436709Z",
     "iopub.status.busy": "2022-10-03T23:24:28.436309Z",
     "iopub.status.idle": "2022-10-03T23:24:28.442511Z",
     "shell.execute_reply": "2022-10-03T23:24:28.440786Z",
     "shell.execute_reply.started": "2022-10-03T23:24:28.436658Z"
    }
   },
   "outputs": [],
   "source": [
    "from datasets import list_datasets\n",
    "import tensorflow as tf"
   ]
  },
  {
   "cell_type": "code",
   "execution_count": 3,
   "id": "96f03cc3-2042-4832-98f8-49cd61a721dd",
   "metadata": {
    "execution": {
     "iopub.execute_input": "2022-10-03T21:48:28.988670Z",
     "iopub.status.busy": "2022-10-03T21:48:28.988086Z",
     "iopub.status.idle": "2022-10-03T21:48:29.881986Z",
     "shell.execute_reply": "2022-10-03T21:48:29.881171Z",
     "shell.execute_reply.started": "2022-10-03T21:48:28.988660Z"
    }
   },
   "outputs": [
    {
     "name": "stdout",
     "output_type": "stream",
     "text": [
      "['acronym_identification', 'ade_corpus_v2', 'adversarial_qa', 'aeslc', 'afrikaans_ner_corpus']\n"
     ]
    }
   ],
   "source": [
    "all_datasets = list_datasets()\n",
    "print(all_datasets[0:5])"
   ]
  },
  {
   "cell_type": "code",
   "execution_count": 4,
   "id": "eaf0d101-2258-471c-b1b3-7d1b5fcce141",
   "metadata": {
    "execution": {
     "iopub.execute_input": "2022-10-03T21:48:46.716475Z",
     "iopub.status.busy": "2022-10-03T21:48:46.716108Z",
     "iopub.status.idle": "2022-10-03T21:48:46.720996Z",
     "shell.execute_reply": "2022-10-03T21:48:46.720155Z",
     "shell.execute_reply.started": "2022-10-03T21:48:46.716447Z"
    }
   },
   "outputs": [],
   "source": [
    "from datasets import load_dataset"
   ]
  },
  {
   "cell_type": "code",
   "execution_count": 6,
   "id": "98511717-f912-43a9-8410-e4ee44644e92",
   "metadata": {
    "execution": {
     "iopub.execute_input": "2022-10-03T21:49:16.109008Z",
     "iopub.status.busy": "2022-10-03T21:49:16.108188Z",
     "iopub.status.idle": "2022-10-03T21:49:16.302966Z",
     "shell.execute_reply": "2022-10-03T21:49:16.301967Z",
     "shell.execute_reply.started": "2022-10-03T21:49:16.108985Z"
    }
   },
   "outputs": [
    {
     "name": "stderr",
     "output_type": "stream",
     "text": [
      "Using custom data configuration default\n",
      "Reusing dataset emotion (/root/.cache/huggingface/datasets/emotion/default/0.0.0/348f63ca8e27b3713b6c04d723efe6d824a56fb3d1449794716c0f0296072705)\n"
     ]
    },
    {
     "data": {
      "application/vnd.jupyter.widget-view+json": {
       "model_id": "0943c76570c1453a8997999cec2b8e47",
       "version_major": 2,
       "version_minor": 0
      },
      "text/plain": [
       "  0%|          | 0/3 [00:00<?, ?it/s]"
      ]
     },
     "metadata": {},
     "output_type": "display_data"
    }
   ],
   "source": [
    "emotions = load_dataset('emotion')"
   ]
  },
  {
   "cell_type": "code",
   "execution_count": 7,
   "id": "97903406-2e79-4908-97c3-62240f08dd34",
   "metadata": {
    "execution": {
     "iopub.execute_input": "2022-10-03T21:49:36.859107Z",
     "iopub.status.busy": "2022-10-03T21:49:36.858732Z",
     "iopub.status.idle": "2022-10-03T21:49:36.870636Z",
     "shell.execute_reply": "2022-10-03T21:49:36.869313Z",
     "shell.execute_reply.started": "2022-10-03T21:49:36.859077Z"
    }
   },
   "outputs": [
    {
     "data": {
      "text/plain": [
       "Dataset({\n",
       "    features: ['text', 'label'],\n",
       "    num_rows: 16000\n",
       "})"
      ]
     },
     "execution_count": 7,
     "metadata": {},
     "output_type": "execute_result"
    }
   ],
   "source": [
    "train_ds = emotions['train']\n",
    "train_ds"
   ]
  },
  {
   "cell_type": "code",
   "execution_count": 8,
   "id": "a4e77141-42f7-496e-87bf-a3aca4dda693",
   "metadata": {
    "execution": {
     "iopub.execute_input": "2022-10-03T21:49:47.815928Z",
     "iopub.status.busy": "2022-10-03T21:49:47.815455Z",
     "iopub.status.idle": "2022-10-03T21:49:47.826266Z",
     "shell.execute_reply": "2022-10-03T21:49:47.824870Z",
     "shell.execute_reply.started": "2022-10-03T21:49:47.815884Z"
    }
   },
   "outputs": [
    {
     "data": {
      "text/plain": [
       "{'text': 'i didnt feel humiliated', 'label': 0}"
      ]
     },
     "execution_count": 8,
     "metadata": {},
     "output_type": "execute_result"
    }
   ],
   "source": [
    "train_ds[0]"
   ]
  },
  {
   "cell_type": "code",
   "execution_count": 9,
   "id": "30691ac7-3cb0-4fe9-a695-b26adc574478",
   "metadata": {
    "execution": {
     "iopub.execute_input": "2022-10-03T21:50:54.334234Z",
     "iopub.status.busy": "2022-10-03T21:50:54.333543Z",
     "iopub.status.idle": "2022-10-03T21:50:54.338348Z",
     "shell.execute_reply": "2022-10-03T21:50:54.337454Z",
     "shell.execute_reply.started": "2022-10-03T21:50:54.334204Z"
    }
   },
   "outputs": [],
   "source": [
    "import pandas as pd"
   ]
  },
  {
   "cell_type": "code",
   "execution_count": 10,
   "id": "0ebb9fdd-9efc-4078-892a-80db94829d5c",
   "metadata": {
    "execution": {
     "iopub.execute_input": "2022-10-03T21:51:50.976680Z",
     "iopub.status.busy": "2022-10-03T21:51:50.976303Z",
     "iopub.status.idle": "2022-10-03T21:51:50.983586Z",
     "shell.execute_reply": "2022-10-03T21:51:50.982214Z",
     "shell.execute_reply.started": "2022-10-03T21:51:50.976652Z"
    }
   },
   "outputs": [],
   "source": [
    "emotions.set_format(type = 'pandas')"
   ]
  },
  {
   "cell_type": "code",
   "execution_count": 12,
   "id": "caa936ce-2191-4718-b182-a28aec07b80f",
   "metadata": {
    "execution": {
     "iopub.execute_input": "2022-10-03T21:52:19.377309Z",
     "iopub.status.busy": "2022-10-03T21:52:19.376810Z",
     "iopub.status.idle": "2022-10-03T21:52:19.405915Z",
     "shell.execute_reply": "2022-10-03T21:52:19.404678Z",
     "shell.execute_reply.started": "2022-10-03T21:52:19.377278Z"
    }
   },
   "outputs": [
    {
     "data": {
      "text/html": [
       "<div>\n",
       "<style scoped>\n",
       "    .dataframe tbody tr th:only-of-type {\n",
       "        vertical-align: middle;\n",
       "    }\n",
       "\n",
       "    .dataframe tbody tr th {\n",
       "        vertical-align: top;\n",
       "    }\n",
       "\n",
       "    .dataframe thead th {\n",
       "        text-align: right;\n",
       "    }\n",
       "</style>\n",
       "<table border=\"1\" class=\"dataframe\">\n",
       "  <thead>\n",
       "    <tr style=\"text-align: right;\">\n",
       "      <th></th>\n",
       "      <th>text</th>\n",
       "      <th>label</th>\n",
       "    </tr>\n",
       "  </thead>\n",
       "  <tbody>\n",
       "    <tr>\n",
       "      <th>0</th>\n",
       "      <td>i didnt feel humiliated</td>\n",
       "      <td>0</td>\n",
       "    </tr>\n",
       "    <tr>\n",
       "      <th>1</th>\n",
       "      <td>i can go from feeling so hopeless to so damned...</td>\n",
       "      <td>0</td>\n",
       "    </tr>\n",
       "    <tr>\n",
       "      <th>2</th>\n",
       "      <td>im grabbing a minute to post i feel greedy wrong</td>\n",
       "      <td>3</td>\n",
       "    </tr>\n",
       "    <tr>\n",
       "      <th>3</th>\n",
       "      <td>i am ever feeling nostalgic about the fireplac...</td>\n",
       "      <td>2</td>\n",
       "    </tr>\n",
       "    <tr>\n",
       "      <th>4</th>\n",
       "      <td>i am feeling grouchy</td>\n",
       "      <td>3</td>\n",
       "    </tr>\n",
       "    <tr>\n",
       "      <th>...</th>\n",
       "      <td>...</td>\n",
       "      <td>...</td>\n",
       "    </tr>\n",
       "    <tr>\n",
       "      <th>15995</th>\n",
       "      <td>i just had a very brief time in the beanbag an...</td>\n",
       "      <td>0</td>\n",
       "    </tr>\n",
       "    <tr>\n",
       "      <th>15996</th>\n",
       "      <td>i am now turning and i feel pathetic that i am...</td>\n",
       "      <td>0</td>\n",
       "    </tr>\n",
       "    <tr>\n",
       "      <th>15997</th>\n",
       "      <td>i feel strong and good overall</td>\n",
       "      <td>1</td>\n",
       "    </tr>\n",
       "    <tr>\n",
       "      <th>15998</th>\n",
       "      <td>i feel like this was such a rude comment and i...</td>\n",
       "      <td>3</td>\n",
       "    </tr>\n",
       "    <tr>\n",
       "      <th>15999</th>\n",
       "      <td>i know a lot but i feel so stupid because i ca...</td>\n",
       "      <td>0</td>\n",
       "    </tr>\n",
       "  </tbody>\n",
       "</table>\n",
       "<p>16000 rows × 2 columns</p>\n",
       "</div>"
      ],
      "text/plain": [
       "                                                    text  label\n",
       "0                                i didnt feel humiliated      0\n",
       "1      i can go from feeling so hopeless to so damned...      0\n",
       "2       im grabbing a minute to post i feel greedy wrong      3\n",
       "3      i am ever feeling nostalgic about the fireplac...      2\n",
       "4                                   i am feeling grouchy      3\n",
       "...                                                  ...    ...\n",
       "15995  i just had a very brief time in the beanbag an...      0\n",
       "15996  i am now turning and i feel pathetic that i am...      0\n",
       "15997                     i feel strong and good overall      1\n",
       "15998  i feel like this was such a rude comment and i...      3\n",
       "15999  i know a lot but i feel so stupid because i ca...      0\n",
       "\n",
       "[16000 rows x 2 columns]"
      ]
     },
     "execution_count": 12,
     "metadata": {},
     "output_type": "execute_result"
    }
   ],
   "source": [
    "df = emotions['train'][:]\n",
    "df"
   ]
  },
  {
   "cell_type": "code",
   "execution_count": 13,
   "id": "5769285c-e923-47b9-841a-e1b0ea28d541",
   "metadata": {
    "execution": {
     "iopub.execute_input": "2022-10-03T21:54:59.613346Z",
     "iopub.status.busy": "2022-10-03T21:54:59.612028Z",
     "iopub.status.idle": "2022-10-03T21:54:59.654611Z",
     "shell.execute_reply": "2022-10-03T21:54:59.653815Z",
     "shell.execute_reply.started": "2022-10-03T21:54:59.613245Z"
    }
   },
   "outputs": [
    {
     "data": {
      "text/html": [
       "<div>\n",
       "<style scoped>\n",
       "    .dataframe tbody tr th:only-of-type {\n",
       "        vertical-align: middle;\n",
       "    }\n",
       "\n",
       "    .dataframe tbody tr th {\n",
       "        vertical-align: top;\n",
       "    }\n",
       "\n",
       "    .dataframe thead th {\n",
       "        text-align: right;\n",
       "    }\n",
       "</style>\n",
       "<table border=\"1\" class=\"dataframe\">\n",
       "  <thead>\n",
       "    <tr style=\"text-align: right;\">\n",
       "      <th></th>\n",
       "      <th>text</th>\n",
       "      <th>label</th>\n",
       "      <th>label_name</th>\n",
       "    </tr>\n",
       "  </thead>\n",
       "  <tbody>\n",
       "    <tr>\n",
       "      <th>0</th>\n",
       "      <td>i didnt feel humiliated</td>\n",
       "      <td>0</td>\n",
       "      <td>sadness</td>\n",
       "    </tr>\n",
       "    <tr>\n",
       "      <th>1</th>\n",
       "      <td>i can go from feeling so hopeless to so damned...</td>\n",
       "      <td>0</td>\n",
       "      <td>sadness</td>\n",
       "    </tr>\n",
       "    <tr>\n",
       "      <th>2</th>\n",
       "      <td>im grabbing a minute to post i feel greedy wrong</td>\n",
       "      <td>3</td>\n",
       "      <td>anger</td>\n",
       "    </tr>\n",
       "    <tr>\n",
       "      <th>3</th>\n",
       "      <td>i am ever feeling nostalgic about the fireplac...</td>\n",
       "      <td>2</td>\n",
       "      <td>love</td>\n",
       "    </tr>\n",
       "    <tr>\n",
       "      <th>4</th>\n",
       "      <td>i am feeling grouchy</td>\n",
       "      <td>3</td>\n",
       "      <td>anger</td>\n",
       "    </tr>\n",
       "  </tbody>\n",
       "</table>\n",
       "</div>"
      ],
      "text/plain": [
       "                                                text  label label_name\n",
       "0                            i didnt feel humiliated      0    sadness\n",
       "1  i can go from feeling so hopeless to so damned...      0    sadness\n",
       "2   im grabbing a minute to post i feel greedy wrong      3      anger\n",
       "3  i am ever feeling nostalgic about the fireplac...      2       love\n",
       "4                               i am feeling grouchy      3      anger"
      ]
     },
     "execution_count": 13,
     "metadata": {},
     "output_type": "execute_result"
    }
   ],
   "source": [
    "def label_int2str(row):\n",
    "    return emotions['train'].features['label'].int2str(row)\n",
    "df['label_name'] = df['label'].apply(label_int2str)\n",
    "df.head()"
   ]
  },
  {
   "cell_type": "code",
   "execution_count": 16,
   "id": "2c3e935b-a41d-44a7-b5e5-ca0b60822450",
   "metadata": {
    "execution": {
     "iopub.execute_input": "2022-10-03T21:58:10.562395Z",
     "iopub.status.busy": "2022-10-03T21:58:10.561788Z",
     "iopub.status.idle": "2022-10-03T21:58:10.791804Z",
     "shell.execute_reply": "2022-10-03T21:58:10.790022Z",
     "shell.execute_reply.started": "2022-10-03T21:58:10.562359Z"
    }
   },
   "outputs": [
    {
     "data": {
      "image/png": "[encoded data removed]",
      "text/plain": [
       "<Figure size 432x288 with 1 Axes>"
      ]
     },
     "metadata": {
      "needs_background": "light"
     },
     "output_type": "display_data"
    }
   ],
   "source": [
    "import matplotlib.pyplot as plt\n",
    "\n",
    "df['label_name'].value_counts(ascending=True).plot.barh()\n",
    "plt.title(\"Frequency of Classes\")\n",
    "plt.show()"
   ]
  },
  {
   "cell_type": "code",
   "execution_count": 23,
   "id": "d59a64c6-660d-411d-bf36-252c85ace8cf",
   "metadata": {
    "execution": {
     "iopub.execute_input": "2022-10-03T22:07:13.771289Z",
     "iopub.status.busy": "2022-10-03T22:07:13.770002Z",
     "iopub.status.idle": "2022-10-03T22:07:13.977101Z",
     "shell.execute_reply": "2022-10-03T22:07:13.976317Z",
     "shell.execute_reply.started": "2022-10-03T22:07:13.771249Z"
    }
   },
   "outputs": [
    {
     "data": {
      "image/png": "[encoded data removed]",
      "text/plain": [
       "<Figure size 432x288 with 1 Axes>"
      ]
     },
     "metadata": {
      "needs_background": "light"
     },
     "output_type": "display_data"
    }
   ],
   "source": [
    "df['words_per_tweet'] = df['text'].str.split().apply(len)\n",
    "df.boxplot('words_per_tweet', by='label_name', grid=False, showfliers=False)\n",
    "plt.suptitle(\"\")\n",
    "plt.xlabel(\"\")\n",
    "plt.show()"
   ]
  },
  {
   "cell_type": "code",
   "execution_count": 27,
   "id": "b251e080-723b-4220-91fe-dba3d39b9120",
   "metadata": {
    "execution": {
     "iopub.execute_input": "2022-10-03T22:27:24.291408Z",
     "iopub.status.busy": "2022-10-03T22:27:24.291003Z",
     "iopub.status.idle": "2022-10-03T22:27:24.297413Z",
     "shell.execute_reply": "2022-10-03T22:27:24.296338Z",
     "shell.execute_reply.started": "2022-10-03T22:27:24.291379Z"
    }
   },
   "outputs": [],
   "source": [
    "emotions.reset_format()"
   ]
  },
  {
   "cell_type": "code",
   "execution_count": 114,
   "id": "faa57c1f-e052-4ea9-adef-14fcdfdcc8ba",
   "metadata": {
    "execution": {
     "iopub.execute_input": "2022-10-03T23:24:37.731597Z",
     "iopub.status.busy": "2022-10-03T23:24:37.731091Z",
     "iopub.status.idle": "2022-10-03T23:24:38.323916Z",
     "shell.execute_reply": "2022-10-03T23:24:38.322822Z",
     "shell.execute_reply.started": "2022-10-03T23:24:37.731558Z"
    }
   },
   "outputs": [],
   "source": [
    "from transformers import AutoTokenizer\n",
    "\n",
    "model_checkpoint = 'distilbert-base-uncased'\n",
    "tokenizer = AutoTokenizer.from_pretrained(model_checkpoint)"
   ]
  },
  {
   "cell_type": "code",
   "execution_count": 118,
   "id": "af20e9b3-b06e-4934-9bde-e49d4a4625bc",
   "metadata": {
    "execution": {
     "iopub.execute_input": "2022-10-03T23:29:47.507065Z",
     "iopub.status.busy": "2022-10-03T23:29:47.506046Z",
     "iopub.status.idle": "2022-10-03T23:29:47.512957Z",
     "shell.execute_reply": "2022-10-03T23:29:47.511540Z",
     "shell.execute_reply.started": "2022-10-03T23:29:47.507012Z"
    }
   },
   "outputs": [],
   "source": [
    "def tokenize(batch):\n",
    "    return tokenizer(batch['text'], padding=True, truncation=True)"
   ]
  },
  {
   "cell_type": "code",
   "execution_count": 119,
   "id": "5c749057-8289-49d2-9b86-d43df3e8364d",
   "metadata": {
    "execution": {
     "iopub.execute_input": "2022-10-03T23:29:50.094007Z",
     "iopub.status.busy": "2022-10-03T23:29:50.093430Z",
     "iopub.status.idle": "2022-10-03T23:29:50.101640Z",
     "shell.execute_reply": "2022-10-03T23:29:50.100381Z",
     "shell.execute_reply.started": "2022-10-03T23:29:50.093964Z"
    }
   },
   "outputs": [
    {
     "name": "stdout",
     "output_type": "stream",
     "text": [
      "{'input_ids': [[101, 1045, 2134, 2102, 2514, 26608, 102, 0, 0, 0, 0, 0, 0, 0, 0, 0, 0, 0, 0, 0, 0, 0, 0], [101, 1045, 2064, 2175, 2013, 3110, 2061, 20625, 2000, 2061, 9636, 17772, 2074, 2013, 2108, 2105, 2619, 2040, 14977, 1998, 2003, 8300, 102]], 'attention_mask': [[1, 1, 1, 1, 1, 1, 1, 0, 0, 0, 0, 0, 0, 0, 0, 0, 0, 0, 0, 0, 0, 0, 0], [1, 1, 1, 1, 1, 1, 1, 1, 1, 1, 1, 1, 1, 1, 1, 1, 1, 1, 1, 1, 1, 1, 1]]}\n"
     ]
    }
   ],
   "source": [
    "print(tokenize(emotions['train'][0:2]))"
   ]
  },
  {
   "cell_type": "code",
   "execution_count": 120,
   "id": "c5433574-8288-4c2f-a9e4-d4223008dc26",
   "metadata": {
    "execution": {
     "iopub.execute_input": "2022-10-03T23:29:51.680136Z",
     "iopub.status.busy": "2022-10-03T23:29:51.679743Z",
     "iopub.status.idle": "2022-10-03T23:29:53.114946Z",
     "shell.execute_reply": "2022-10-03T23:29:53.113973Z",
     "shell.execute_reply.started": "2022-10-03T23:29:51.680107Z"
    }
   },
   "outputs": [
    {
     "data": {
      "application/vnd.jupyter.widget-view+json": {
       "model_id": "61174f185d5f401dac8afbbf2c0ce520",
       "version_major": 2,
       "version_minor": 0
      },
      "text/plain": [
       "  0%|          | 0/1 [00:00<?, ?ba/s]"
      ]
     },
     "metadata": {},
     "output_type": "display_data"
    },
    {
     "data": {
      "application/vnd.jupyter.widget-view+json": {
       "model_id": "ec47307dd2824f35bdad8281ed8bb467",
       "version_major": 2,
       "version_minor": 0
      },
      "text/plain": [
       "  0%|          | 0/1 [00:00<?, ?ba/s]"
      ]
     },
     "metadata": {},
     "output_type": "display_data"
    },
    {
     "data": {
      "application/vnd.jupyter.widget-view+json": {
       "model_id": "b716163fa4ab49bdbbed56c95d73d107",
       "version_major": 2,
       "version_minor": 0
      },
      "text/plain": [
       "  0%|          | 0/1 [00:00<?, ?ba/s]"
      ]
     },
     "metadata": {},
     "output_type": "display_data"
    }
   ],
   "source": [
    "emotions_encoded = emotions.map(tokenize, batched = True, batch_size = None)"
   ]
  },
  {
   "cell_type": "code",
   "execution_count": 122,
   "id": "21772970-54f2-4dbb-be7f-155b776ca19e",
   "metadata": {
    "execution": {
     "iopub.execute_input": "2022-10-03T23:32:16.854608Z",
     "iopub.status.busy": "2022-10-03T23:32:16.854188Z",
     "iopub.status.idle": "2022-10-03T23:32:17.692440Z",
     "shell.execute_reply": "2022-10-03T23:32:17.691759Z",
     "shell.execute_reply.started": "2022-10-03T23:32:16.854579Z"
    }
   },
   "outputs": [
    {
     "name": "stderr",
     "output_type": "stream",
     "text": [
      "Some layers from the model checkpoint at distilbert-base-uncased were not used when initializing TFDistilBertForSequenceClassification: ['vocab_projector', 'vocab_layer_norm', 'vocab_transform', 'activation_13']\n",
      "- This IS expected if you are initializing TFDistilBertForSequenceClassification from the checkpoint of a model trained on another task or with another architecture (e.g. initializing a BertForSequenceClassification model from a BertForPreTraining model).\n",
      "- This IS NOT expected if you are initializing TFDistilBertForSequenceClassification from the checkpoint of a model that you expect to be exactly identical (initializing a BertForSequenceClassification model from a BertForSequenceClassification model).\n",
      "Some layers of TFDistilBertForSequenceClassification were not initialized from the model checkpoint at distilbert-base-uncased and are newly initialized: ['classifier', 'pre_classifier', 'dropout_77']\n",
      "You should probably TRAIN this model on a down-stream task to be able to use it for predictions and inference.\n"
     ]
    },
    {
     "data": {
      "text/plain": [
       "<transformers.models.distilbert.modeling_tf_distilbert.TFDistilBertForSequenceClassification at 0x7fbec5072670>"
      ]
     },
     "execution_count": 122,
     "metadata": {},
     "output_type": "execute_result"
    }
   ],
   "source": [
    "from transformers import TFAutoModelForSequenceClassification\n",
    "\n",
    "num_labels = 6\n",
    "\n",
    "tf_model = TFAutoModelForSequenceClassification.from_pretrained(model_checkpoint, num_labels=num_labels)\n",
    "tf_model"
   ]
  },
  {
   "cell_type": "code",
   "execution_count": 123,
   "id": "01a71c2c-1837-428c-bf45-4c58e3762cf8",
   "metadata": {
    "execution": {
     "iopub.execute_input": "2022-10-03T23:33:16.422947Z",
     "iopub.status.busy": "2022-10-03T23:33:16.421917Z",
     "iopub.status.idle": "2022-10-03T23:33:16.427084Z",
     "shell.execute_reply": "2022-10-03T23:33:16.426174Z",
     "shell.execute_reply.started": "2022-10-03T23:33:16.422947Z"
    }
   },
   "outputs": [],
   "source": [
    "from sklearn.metrics import accuracy_score, f1_score"
   ]
  },
  {
   "cell_type": "code",
   "execution_count": 125,
   "id": "0a7c9b0d-8392-4526-bbc2-43653fb2cb59",
   "metadata": {
    "execution": {
     "iopub.execute_input": "2022-10-03T23:39:10.445461Z",
     "iopub.status.busy": "2022-10-03T23:39:10.444909Z",
     "iopub.status.idle": "2022-10-03T23:39:10.451785Z",
     "shell.execute_reply": "2022-10-03T23:39:10.449871Z",
     "shell.execute_reply.started": "2022-10-03T23:39:10.445407Z"
    }
   },
   "outputs": [],
   "source": [
    "tokenizer_columns = tokenizer.model_input_names"
   ]
  },
  {
   "cell_type": "code",
   "execution_count": 126,
   "id": "ea73d8f9-f87f-4f1d-a18b-b40850d45d03",
   "metadata": {
    "execution": {
     "iopub.execute_input": "2022-10-03T23:41:37.144204Z",
     "iopub.status.busy": "2022-10-03T23:41:37.143762Z",
     "iopub.status.idle": "2022-10-03T23:41:37.150401Z",
     "shell.execute_reply": "2022-10-03T23:41:37.148636Z",
     "shell.execute_reply.started": "2022-10-03T23:41:37.144175Z"
    }
   },
   "outputs": [],
   "source": [
    "batch_size = 64"
   ]
  },
  {
   "cell_type": "code",
   "execution_count": 127,
   "id": "4a67d20c-9f1e-4dde-8543-a55029e62de5",
   "metadata": {
    "execution": {
     "iopub.execute_input": "2022-10-03T23:41:38.153296Z",
     "iopub.status.busy": "2022-10-03T23:41:38.152922Z",
     "iopub.status.idle": "2022-10-03T23:41:38.533966Z",
     "shell.execute_reply": "2022-10-03T23:41:38.532419Z",
     "shell.execute_reply.started": "2022-10-03T23:41:38.153267Z"
    }
   },
   "outputs": [],
   "source": [
    "tf_train_dataset = emotions_encoded['train'].to_tf_dataset(columns = tokenizer_columns, \n",
    "                                                           label_cols = ['label'], \n",
    "                                                           shuffle=True, batch_size=batch_size)\n",
    "\n",
    "tf_validation_dataset = emotions_encoded['validation'].to_tf_dataset(columns = tokenizer_columns, \n",
    "                                                           label_cols = ['label'], \n",
    "                                                           shuffle=True, batch_size=batch_size)"
   ]
  },
  {
   "cell_type": "code",
   "execution_count": 129,
   "id": "819ab634-660a-4eca-a4fa-edaac83a8bbb",
   "metadata": {
    "execution": {
     "iopub.execute_input": "2022-10-03T23:44:29.545249Z",
     "iopub.status.busy": "2022-10-03T23:44:29.544817Z",
     "iopub.status.idle": "2022-10-03T23:55:14.065511Z",
     "shell.execute_reply": "2022-10-03T23:55:14.064328Z",
     "shell.execute_reply.started": "2022-10-03T23:44:29.545205Z"
    }
   },
   "outputs": [
    {
     "name": "stdout",
     "output_type": "stream",
     "text": [
      "Epoch 1/2\n",
      "250/250 [==============================] - 325s 1s/step - loss: 0.5171 - sparse_categorical_accuracy: 0.8195 - val_loss: 0.1853 - val_sparse_categorical_accuracy: 0.9255\n",
      "Epoch 2/2\n",
      "250/250 [==============================] - 308s 1s/step - loss: 0.1365 - sparse_categorical_accuracy: 0.9394 - val_loss: 0.1316 - val_sparse_categorical_accuracy: 0.9325\n"
     ]
    },
    {
     "data": {
      "text/plain": [
       "<keras.callbacks.History at 0x7fbeb7617b20>"
      ]
     },
     "execution_count": 129,
     "metadata": {},
     "output_type": "execute_result"
    }
   ],
   "source": [
    "tf_model.compile(optimizer=tf.keras.optimizers.Adam(learning_rate=5e-5), \n",
    "                 loss = tf.keras.losses.SparseCategoricalCrossentropy(from_logits=True),\n",
    "                 metrics = tf.metrics.SparseCategoricalAccuracy())\n",
    "\n",
    "tf_model.fit(tf_train_dataset, validation_data = tf_validation_dataset, epochs = 2)"
   ]
  }
 ],
 "metadata": {
  "kernelspec": {
   "display_name": "Python 3 (ipykernel)",
   "language": "python",
   "name": "python3"
  },
  "language_info": {
   "codemirror_mode": {
    "name": "ipython",
    "version": 3
   },
   "file_extension": ".py",
   "mimetype": "text/x-python",
   "name": "python",
   "nbconvert_exporter": "python",
   "pygments_lexer": "ipython3",
   "version": "3.9.13"
  }
 },
 "nbformat": 4,
 "nbformat_minor": 5
}
